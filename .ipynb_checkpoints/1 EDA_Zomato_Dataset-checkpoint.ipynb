{
 "cells": [
  {
   "cell_type": "markdown",
   "id": "d4b07a1b",
   "metadata": {},
   "source": [
    "## In this we will focus on the Exploratory Data Analysis of the ZOMATO dataset. \n",
    "## Mainly - \n",
    "1. Data Clean up as required\n",
    " - Null values\n",
    " - Missing values - Deletion( list wise and Pair wise), Mean/Median imputation, Prediction model, KNN Imputation\n",
    " - Duplicate values\n",
    " - Outliers and Treatment - IQR, Clipping etc(Data Entry, Measurement, Experimental, Intentional, Data Processing, Sampling and     Natural Outliers)\n",
    " - Categorical variables Encoding\n",
    " - Normalizing and ScalinG\n",
    " \n",
    "2. Univariate Analysis - For Numerical variables for understanding the central tendency, variation and spread of the data, Distributions and Counts. For Categorical variables - Distributions and counts\n",
    "\n",
    "3. BiVariate Analysis for understanding the relationship between the different variables and how they are correlated  \n",
    " - Scatter Plots, Histograms, Heatmaps, Boxplots,Violin Plots\n",
    " - Correlation - Pearson, Spearman and KendalTau\n",
    " - Multivariate Analysis - pairplots\n",
    " - Continuous & Continuous - Scatterplots and to find the strength of the relationship we use correlation\n",
    " - Categorical & Categorical - Cross table, Stack charts and Chi-Square test\n",
    " - Categorical & Continuous - Z Test/ T-test, ANOVA\n",
    " \n",
    "4. Feature Engineering - Creating New Variables and Data Transformation phase\n",
    "\n",
    "5. Identify the patterns, trends and Insights in the data\n",
    "\n",
    "\n",
    "### Chi-Square test - \n",
    "Also, it tests whether the evidence in the sample is strong enough to generalize that the relationship for a larger population as well. Chi-square is based on the difference between the expected and observed frequencies in one or more categories in the two-way table. It returns probability for the computed chi-square distribution with the degree of freedom\n",
    "\n",
    "Probability of 0: It indicates that both categorical variable are dependent\n",
    "\n",
    "Probability of 1: It shows that both variables are independent.\n",
    "\n",
    "Probability less than 0.05: It indicates that the relationship between the variables is significant at 95% confidence. \n",
    "\n",
    "Statistical Measures used to analyze the power of relationship are:\n",
    "\n",
    "- Cramer’s V for Nominal Categorical Variable\n",
    "- Mantel-Haenszed Chi-Square for ordinal categorical variable.\n",
    "\n",
    "\n",
    "### Z Test/ T-test\n",
    "Either test assess whether mean of two groups are statistically different from each other or not.\n",
    "\n",
    "If the probability of Z is small then the difference of two averages is more significant. The T-test is very similar to Z-test but it is used when number of observation for both categories is less than 30.\n",
    "\n",
    "### ANOVA \n",
    "It assesses whether the average of more than two groups is statistically different.\n",
    "https://www.analyticsvidhya.com/blog/2016/01/guide-data-exploration/"
   ]
  },
  {
   "cell_type": "code",
   "execution_count": null,
   "id": "48cb32a2",
   "metadata": {},
   "outputs": [],
   "source": []
  },
  {
   "cell_type": "code",
   "execution_count": null,
   "id": "3ca52801",
   "metadata": {},
   "outputs": [],
   "source": []
  }
 ],
 "metadata": {
  "kernelspec": {
   "display_name": "Python 3 (ipykernel)",
   "language": "python",
   "name": "python3"
  },
  "language_info": {
   "codemirror_mode": {
    "name": "ipython",
    "version": 3
   },
   "file_extension": ".py",
   "mimetype": "text/x-python",
   "name": "python",
   "nbconvert_exporter": "python",
   "pygments_lexer": "ipython3",
   "version": "3.8.13"
  }
 },
 "nbformat": 4,
 "nbformat_minor": 5
}
